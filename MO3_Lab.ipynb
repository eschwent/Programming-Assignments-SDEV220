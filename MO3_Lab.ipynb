{
 "cells": [
  {
   "cell_type": "code",
   "execution_count": null,
   "id": "a8d3a629-e006-44e1-ad3d-d1306e731e0f",
   "metadata": {},
   "outputs": [
    {
     "name": "stdin",
     "output_type": "stream",
     "text": [
      "Enter the year:  2022\n",
      "Enter the make:  Toyota\n",
      "Enter the model:  Corrolla\n",
      "Enter the number of doors(2 or 4):  4\n"
     ]
    }
   ],
   "source": [
    "year = input(\"Enter the year: \")\n",
    "make = input(\"Enter the make: \")\n",
    "model = input(\"Enter the model: \")\n",
    "doors = input(\"Enter the number of doors(2 or 4): \")\n",
    "roof = input(\"Enter the roof style(solid or sunroof: \")\n",
    "\n",
    "class Vehicle():\n",
    "    type = 'car'\n",
    "    def carType(self):\n",
    "        print(\"Vehicle Type: \", self.type)\n",
    "\n",
    "# inherit from Animal\n",
    "class Automobile(Vehicle):\n",
    "\n",
    "    # new method in subclass\n",
    "    def cars(self):\n",
    "        super(type)._init_\n",
    "        def _init_(self,type,year,make,model,doors,roof):\n",
    "            super(type)\n",
    "            self.year = year\n",
    "            self.make = make\n",
    "            self.model = model\n",
    "            self.doors = doors\n",
    "            self.roof = roof\n",
    "    \n",
    "    def display(Vehicle):\n",
    "        print( 'Year: ', year)\n",
    "        print('Make: ', make)\n",
    "        print('Model: ', model) \n",
    "        print('Number of doors: ', doors) \n",
    "        print('Type of roof: ', roof)\n",
    "        \n",
    "\n",
    "# create an object of the subclass\n",
    "car1 = Automobile()\n",
    "\n",
    "# access superclass attribute and method \n",
    "car1.carType()\n",
    "\n",
    "# call subclass method \n",
    "car1.display()"
   ]
  },
  {
   "cell_type": "code",
   "execution_count": null,
   "id": "6877ed10-21af-4a0c-a883-ead983be1b50",
   "metadata": {},
   "outputs": [],
   "source": []
  }
 ],
 "metadata": {
  "kernelspec": {
   "display_name": "Python 3 (ipykernel)",
   "language": "python",
   "name": "python3"
  },
  "language_info": {
   "codemirror_mode": {
    "name": "ipython",
    "version": 3
   },
   "file_extension": ".py",
   "mimetype": "text/x-python",
   "name": "python",
   "nbconvert_exporter": "python",
   "pygments_lexer": "ipython3",
   "version": "3.12.4"
  }
 },
 "nbformat": 4,
 "nbformat_minor": 5
}
