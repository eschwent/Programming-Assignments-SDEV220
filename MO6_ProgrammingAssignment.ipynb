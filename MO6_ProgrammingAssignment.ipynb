{
 "cells": [
  {
   "cell_type": "code",
   "execution_count": 1,
   "id": "718f896b-da4e-4bee-9b45-dea708009004",
   "metadata": {},
   "outputs": [
    {
     "name": "stdout",
     "output_type": "stream",
     "text": [
      "2024-September-29\n"
     ]
    }
   ],
   "source": [
    "import datetime\n",
    "f = open(\"today.txt\", \"w\")\n",
    "properdate = datetime.datetime.now().strftime(\"%Y-%B-%d\")\n",
    "f.write(properdate)\n",
    "f.close()\n",
    "\n",
    "q = open(\"today.txt\", \"r\")\n",
    "today_string = q.read()\n",
    "print(today_string)"
   ]
  },
  {
   "cell_type": "code",
   "execution_count": 52,
   "id": "8ff71ed2-09b9-4e1f-b1bf-416ffe9b5da3",
   "metadata": {},
   "outputs": [
    {
     "name": "stdout",
     "output_type": "stream",
     "text": [
      "Waiting for 0 seconds\n",
      "17:41:38\n",
      "Waiting for 1 seconds\n",
      "17:41:39\n",
      "Waiting for 0 seconds\n",
      "17:41:39\n",
      "The current time is: 17:41:39\n"
     ]
    }
   ],
   "source": [
    "import multiprocessing,time,datetime\n",
    "import random\n",
    "\n",
    "def process1():\n",
    "    wait = random.randint(0,1)\n",
    "    print(\"Waiting for \"+str(wait)+\" seconds\")\n",
    "    time.sleep(wait)\n",
    "    t = (datetime.datetime.now())\n",
    "    print(t.strftime('%X'))\n",
    "\n",
    "def process2():\n",
    "    wait = random.randint(0,1)\n",
    "    print(\"Waiting for \"+str(wait)+\" seconds\")\n",
    "    time.sleep(wait)\n",
    "    t = (datetime.datetime.now())\n",
    "    print(t.strftime('%X'))\n",
    "\n",
    "def process3():\n",
    "    wait = random.randint(0,1)\n",
    "    print(\"Waiting for \"+str(wait)+\" seconds\")\n",
    "    time.sleep(wait)\n",
    "    t = (datetime.datetime.now())\n",
    "    print(t.strftime('%X'))\n",
    "\n",
    "\n",
    "start = time.time()\n",
    "process1 = process1()\n",
    "process2 = process2()\n",
    "process3 = process3()\n",
    "\n",
    "t = (datetime.datetime.now())\n",
    "print('The current time is: ' + (t.strftime('%X')))\n",
    "\n",
    "if __name__==\"__main__\":\n",
    "    \n",
    "    \n",
    "    \n",
    "    p1 = multiprocessing.Process(target=process1)\n",
    "    p2 = multiprocessing.Process(target=process2)\n",
    "    p3 = multiprocessing.Process(target=process3)\n",
    "\n",
    "    p1.start()\n",
    "    p2.start()\n",
    "    p3.start()\n",
    "\n",
    "    p1.join()\n",
    "    p2.join()\n",
    "    p3.join()\n",
    "\n",
    "end = time.time()\n",
    "    \n",
    "\n",
    "\n",
    "\n",
    "\n",
    "\n"
   ]
  },
  {
   "cell_type": "code",
   "execution_count": null,
   "id": "25317380-67d8-43f7-b1cd-b69d24802970",
   "metadata": {},
   "outputs": [],
   "source": []
  }
 ],
 "metadata": {
  "kernelspec": {
   "display_name": "Python 3 (ipykernel)",
   "language": "python",
   "name": "python3"
  },
  "language_info": {
   "codemirror_mode": {
    "name": "ipython",
    "version": 3
   },
   "file_extension": ".py",
   "mimetype": "text/x-python",
   "name": "python",
   "nbconvert_exporter": "python",
   "pygments_lexer": "ipython3",
   "version": "3.12.4"
  }
 },
 "nbformat": 4,
 "nbformat_minor": 5
}
